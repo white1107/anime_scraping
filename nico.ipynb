{
 "cells": [
  {
   "cell_type": "code",
   "execution_count": 2,
   "id": "9413a5f6-ee7d-4523-9d95-819ecbeaa791",
   "metadata": {},
   "outputs": [],
   "source": [
    "import requests,bs4"
   ]
  },
  {
   "cell_type": "code",
   "execution_count": 3,
   "id": "bac8ba5e-fa92-400f-88c6-20a5f3acdea5",
   "metadata": {},
   "outputs": [],
   "source": [
    "url = 'https://dic.nicovideo.jp/a/%E7%84%A1%E8%81%B7%E8%BB%A2%E7%94%9F%20~%E7%95%B0%E4%B8%96%E7%95%8C%E8%A1%8C%E3%81%A3%E3%81%9F%E3%82%89%E6%9C%AC%E6%B0%97%E3%81%A0%E3%81%99~'\n",
    "res = requests.get(url)\n",
    "# res = requests.get('https://ja.wikipedia.org/wiki/Python')\n"
   ]
  },
  {
   "cell_type": "code",
   "execution_count": 4,
   "id": "cafe79cb-fa4b-4870-bad3-75468d6f8463",
   "metadata": {},
   "outputs": [],
   "source": [
    "soup = bs4.BeautifulSoup(res.text, \"html.parser\")\n"
   ]
  },
  {
   "cell_type": "code",
   "execution_count": 15,
   "id": "7150315c-1336-4cf1-9807-b49d3c6a8315",
   "metadata": {},
   "outputs": [
    {
     "name": "stdout",
     "output_type": "stream",
     "text": [
      "概要\n",
      "漫画版\n",
      "無職転生～ロキシーだって本気です～\n",
      "無職転生 ～4コマになっても本気だす～\n",
      "アニメ版\n",
      "スタッフ\n",
      "キャスト\n",
      "放送局・配信サイト\n",
      "各話リスト\n",
      "主題歌\n",
      "ラジオ\n",
      "あらすじ\n",
      "主要人物\n",
      "関連動画\n",
      "関連静画\n",
      "関連チャンネル\n",
      "関連生放送\n",
      "関連商品\n",
      "関連項目\n",
      "外部リンク\n",
      "この記事の掲示板に最近描かれたお絵カキコ\n",
      "この記事の掲示板に最近投稿されたピコカキコ\n",
      "無職転生 ~異世界行ったら本気だす~\n",
      "急上昇ワード改\n",
      "おすすめトレンド\n",
      "ニコニコニューストピックス\n"
     ]
    }
   ],
   "source": [
    "res  = {} \n",
    "flag = 0\n",
    "\n",
    "tmp = \"\"\n",
    "tmt_txt = ''\n",
    "for i in soup.find_all(['p','h2','h3','h4','ul']):\n",
    "    if not flag and \"概要\" in i.get_text():\n",
    "        flag = 1\n",
    "    if flag:\n",
    "        if '<h2' in str(i) or '<h3' in str(i):\n",
    "            flag+=1\n",
    "            if flag>=2 :\n",
    "                res[tmp] = tmt_txt\n",
    "            tmp = i.get_text()\n",
    "            tmp = tmp.replace('\\n','')\n",
    "            tmp = tmp.replace('\\r','')\n",
    "            print(tmp)\n",
    "            tmt_txt = ''\n",
    "        else:\n",
    "            tmt = i.get_text()\n",
    "            tmt = tmt.replace('\\n','')\n",
    "            tmt = tmt.replace('\\r','')\n",
    "            tmt = tmt.replace('\\u3000','')\n",
    "            tmt_txt += \" \"+tmt\n",
    "#             print('key',tmt)\n",
    "\n",
    "res[tmp] = tmt_txt"
   ]
  },
  {
   "cell_type": "code",
   "execution_count": 18,
   "id": "6890b53d-b415-4c75-b6b4-599f08591665",
   "metadata": {},
   "outputs": [
    {
     "data": {
      "text/plain": [
       "' ルーデウス・グレイラット ドラマCD版CV：下野紘 / アニメ版CV：内山夕実、杉田智和（前世の男） ・本作の主人公で、転生者。・茶髪で顔立ちは整っているが、たまに何とも言えないイヤラシイ笑顔を見せる。・文武両道であるが、魔術のほうが得意。・尊敬する魔法使いはロキシー。ロキシー神として崇めている。・前世の影響もあってか、家族を非常に大事にしている。・前世の男の記憶は完全に受け継いでおり、アニメ版では心の内の声は前世の男の声である。 ロキシー・ミグルディア  ドラマCD版CV：広橋涼 / アニメ版CV：小原好美 ・ルーデウスの魔術の師匠であり、心の師匠。・ミグルド族という魔族であり、特徴的な青髪をしている。・その見た目通り、水魔術を得意としている。・外見は幼く見えるが、ルーデウスの34歳年上。 シルフィエット  アニメ版CV：茅野愛衣 ・ルーデウスの故郷、ブエナ村に住むクォーターエルフの少女。・そのため、特徴的な緑髪と尖った耳をしている。・ルーデウスから魔術を教わった、一番弟子的な存在。 エリス・ボレアス・グレイラット アニメ版CV：加隈亜衣 ・ルーデウスの親戚にあたる貴族家の令嬢。・ウェーブの掛かった長い赤髪と、豊満なバストが特徴的。・わがままで非常に凶暴な性格。・ルーデウスに家庭教師として様々な事を教わる。 パウロ・グレイラット ドラマCD版CV:竹本英史 / アニメ版CV：森川智之 ・ルーデウスの父親。・元冒険者にして騎士で、ルーデウスを剣士として鍛えあげる。・女性関係にはだらしない。 ゼニス・グレイラット アニメ版CV：金元寿子 ・ルーデウスの母親。・元冒険者で、治癒系の魔術を得意としている。・ルーデウスの魔術の才能を見て、ロキシーを家庭教師に雇う。'"
      ]
     },
     "execution_count": 18,
     "metadata": {},
     "output_type": "execute_result"
    }
   ],
   "source": [
    "res['主要人物']"
   ]
  },
  {
   "cell_type": "code",
   "execution_count": 17,
   "id": "45cb1d44-a431-4989-b844-c80044b91b86",
   "metadata": {},
   "outputs": [
    {
     "data": {
      "text/plain": [
       "dict_keys(['', '概要', '漫画版', '無職転生～ロキシーだって本気です～', '無職転生 ～4コマになっても本気だす～', 'アニメ版', 'スタッフ', 'キャスト', '放送局・配信サイト', '各話リスト', '主題歌', 'ラジオ', 'あらすじ', '主要人物', '関連動画', '関連静画', '関連チャンネル', '関連生放送', '関連商品', '関連項目', '外部リンク', 'この記事の掲示板に最近描かれたお絵カキコ', 'この記事の掲示板に最近投稿されたピコカキコ', '無職転生 ~異世界行ったら本気だす~', '急上昇ワード改', 'おすすめトレンド', 'ニコニコニューストピックス'])"
      ]
     },
     "execution_count": 17,
     "metadata": {},
     "output_type": "execute_result"
    }
   ],
   "source": [
    "res.keys()"
   ]
  },
  {
   "cell_type": "code",
   "execution_count": null,
   "id": "753ae444-3d26-44c7-bf8b-81b1703a2467",
   "metadata": {},
   "outputs": [],
   "source": []
  },
  {
   "cell_type": "code",
   "execution_count": null,
   "id": "dde359d4-4680-4e39-a37f-6c31098abd49",
   "metadata": {},
   "outputs": [],
   "source": []
  },
  {
   "cell_type": "code",
   "execution_count": null,
   "id": "99a9adbc-7071-44a1-b53a-df02bd14a213",
   "metadata": {},
   "outputs": [],
   "source": []
  },
  {
   "cell_type": "code",
   "execution_count": null,
   "id": "79d8a1ea-4442-49b6-adc0-ea8709b6d14c",
   "metadata": {},
   "outputs": [],
   "source": []
  },
  {
   "cell_type": "code",
   "execution_count": null,
   "id": "f1d0aa37-0c67-4078-8e5d-c69b0019f510",
   "metadata": {},
   "outputs": [],
   "source": []
  },
  {
   "cell_type": "code",
   "execution_count": null,
   "id": "7cd18611-9ea2-40f5-84f3-9a601f38889c",
   "metadata": {},
   "outputs": [],
   "source": []
  },
  {
   "cell_type": "code",
   "execution_count": null,
   "id": "b5d3cf2f-8a8c-4331-856e-13e48a8e3cf8",
   "metadata": {},
   "outputs": [],
   "source": []
  },
  {
   "cell_type": "code",
   "execution_count": null,
   "id": "202264f9-19d1-4670-9855-29129f56a093",
   "metadata": {},
   "outputs": [],
   "source": []
  },
  {
   "cell_type": "code",
   "execution_count": null,
   "id": "39408d3f-a36c-464b-a677-77feb452d0f2",
   "metadata": {},
   "outputs": [],
   "source": []
  },
  {
   "cell_type": "code",
   "execution_count": null,
   "id": "471834d4-df98-44f0-aadf-fb96658b95e2",
   "metadata": {},
   "outputs": [],
   "source": []
  },
  {
   "cell_type": "code",
   "execution_count": null,
   "id": "940b5dea-b05a-4054-8732-716006104b92",
   "metadata": {},
   "outputs": [],
   "source": []
  },
  {
   "cell_type": "code",
   "execution_count": null,
   "id": "4b09d68f-308f-400b-a3b1-9b21c49ec4b5",
   "metadata": {},
   "outputs": [],
   "source": []
  },
  {
   "cell_type": "code",
   "execution_count": null,
   "id": "a0f1ecc4-eb22-48e7-a285-3713b4bcf185",
   "metadata": {},
   "outputs": [],
   "source": []
  },
  {
   "cell_type": "code",
   "execution_count": null,
   "id": "744b7134-51d5-415b-93f4-becd4690430c",
   "metadata": {},
   "outputs": [],
   "source": []
  },
  {
   "cell_type": "code",
   "execution_count": null,
   "id": "b40028dc-3546-4984-ac01-d5bd85f5732b",
   "metadata": {},
   "outputs": [],
   "source": []
  },
  {
   "cell_type": "code",
   "execution_count": null,
   "id": "266e4d71-2405-498f-9d93-e99d10b088f1",
   "metadata": {},
   "outputs": [],
   "source": []
  },
  {
   "cell_type": "code",
   "execution_count": null,
   "id": "106118e4-135f-46a3-ac2e-c9414e2851ae",
   "metadata": {},
   "outputs": [],
   "source": []
  },
  {
   "cell_type": "code",
   "execution_count": null,
   "id": "fc1c2793-5d13-4764-b027-a8d5b6ded324",
   "metadata": {},
   "outputs": [],
   "source": []
  },
  {
   "cell_type": "code",
   "execution_count": null,
   "id": "978535d7-030e-48cb-94f2-0d3b075cbc3a",
   "metadata": {},
   "outputs": [],
   "source": []
  },
  {
   "cell_type": "code",
   "execution_count": null,
   "id": "24bbb255-2304-4d2a-bc06-b2ad30deb43d",
   "metadata": {},
   "outputs": [],
   "source": []
  },
  {
   "cell_type": "code",
   "execution_count": null,
   "id": "3da834b2-7767-4760-80aa-516229cd0ed1",
   "metadata": {},
   "outputs": [],
   "source": []
  },
  {
   "cell_type": "code",
   "execution_count": null,
   "id": "216f95cb-63fe-4fee-88ee-8e9f1b1641f1",
   "metadata": {},
   "outputs": [],
   "source": []
  },
  {
   "cell_type": "code",
   "execution_count": null,
   "id": "3993f2ab-93e8-4b30-ad15-3040fc3975cb",
   "metadata": {},
   "outputs": [],
   "source": []
  },
  {
   "cell_type": "code",
   "execution_count": null,
   "id": "b44298e4-8e33-47f6-bedf-b73f0d9ec4c6",
   "metadata": {},
   "outputs": [],
   "source": []
  },
  {
   "cell_type": "code",
   "execution_count": null,
   "id": "57e074da-e33f-41e8-925a-e5bd0d457c3c",
   "metadata": {},
   "outputs": [],
   "source": []
  },
  {
   "cell_type": "code",
   "execution_count": null,
   "id": "f9c4dc56-bea0-4def-8ea7-5a4c5f98c0a5",
   "metadata": {},
   "outputs": [],
   "source": []
  },
  {
   "cell_type": "code",
   "execution_count": null,
   "id": "d3b8a6c9-c345-45ca-a1ce-5cda689bb3cb",
   "metadata": {},
   "outputs": [],
   "source": []
  },
  {
   "cell_type": "code",
   "execution_count": null,
   "id": "3efcfdd5-612b-492c-99af-86b0f8e9301c",
   "metadata": {},
   "outputs": [],
   "source": []
  },
  {
   "cell_type": "code",
   "execution_count": null,
   "id": "94275b51-77ff-4280-a6f5-b5af5e04114b",
   "metadata": {},
   "outputs": [],
   "source": []
  },
  {
   "cell_type": "code",
   "execution_count": null,
   "id": "ecdfce56-c820-44df-b55e-c90461142e51",
   "metadata": {},
   "outputs": [],
   "source": []
  },
  {
   "cell_type": "code",
   "execution_count": null,
   "id": "bfe87e20-e458-432c-b88b-e07f3b6a95c0",
   "metadata": {},
   "outputs": [],
   "source": []
  }
 ],
 "metadata": {
  "kernelspec": {
   "display_name": "Python 3",
   "language": "python",
   "name": "python3"
  },
  "language_info": {
   "codemirror_mode": {
    "name": "ipython",
    "version": 3
   },
   "file_extension": ".py",
   "mimetype": "text/x-python",
   "name": "python",
   "nbconvert_exporter": "python",
   "pygments_lexer": "ipython3",
   "version": "3.8.8"
  }
 },
 "nbformat": 4,
 "nbformat_minor": 5
}
