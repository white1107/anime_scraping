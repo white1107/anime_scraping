{
 "cells": [
  {
   "cell_type": "code",
   "execution_count": 34,
   "id": "9413a5f6-ee7d-4523-9d95-819ecbeaa791",
   "metadata": {},
   "outputs": [],
   "source": [
    "import requests,bs4"
   ]
  },
  {
   "cell_type": "code",
   "execution_count": 35,
   "id": "bac8ba5e-fa92-400f-88c6-20a5f3acdea5",
   "metadata": {},
   "outputs": [],
   "source": [
    "url = 'https://ja.wikipedia.org/wiki/%E7%84%A1%E8%81%B7%E8%BB%A2%E7%94%9F_%E3%80%9C%E7%95%B0%E4%B8%96%E7%95%8C%E8%A1%8C%E3%81%A3%E3%81%9F%E3%82%89%E6%9C%AC%E6%B0%97%E3%81%A0%E3%81%99%E3%80%9C'\n",
    "res = requests.get(url)\n",
    "# res = requests.get('https://ja.wikipedia.org/wiki/Python')\n"
   ]
  },
  {
   "cell_type": "code",
   "execution_count": 36,
   "id": "cafe79cb-fa4b-4870-bad3-75468d6f8463",
   "metadata": {},
   "outputs": [],
   "source": [
    "soup = bs4.BeautifulSoup(res.text, \"html.parser\")\n"
   ]
  },
  {
   "cell_type": "code",
   "execution_count": 37,
   "id": "7150315c-1336-4cf1-9807-b49d3c6a8315",
   "metadata": {},
   "outputs": [
    {
     "name": "stdout",
     "output_type": "stream",
     "text": [
      "目次\n",
      "概説\n",
      "あらすじ\n",
      "登場人物\n",
      "用語\n",
      "既刊一覧\n",
      "ドラマCD\n",
      "テレビアニメ\n",
      "スマートフォンゲーム\n",
      "脚注\n",
      "外部リンク\n",
      "案内メニュー\n"
     ]
    }
   ],
   "source": [
    "res  = {} \n",
    "flag = 0\n",
    "\n",
    "tmp = \"\"\n",
    "tmt_txt = ''\n",
    "for i in soup.find_all(['h2','p']):\n",
    "#     print(i)\n",
    "#     print()\n",
    "    if not flag and \"目次\" in i.get_text():\n",
    "        flag = 1\n",
    "    if flag:\n",
    "#         print(tmp)\n",
    "        if '<h' in str(i):\n",
    "            flag+=1\n",
    "            if flag>=2 :\n",
    "                res[tmp] = tmt_txt\n",
    "            tmp = i.get_text()\n",
    "            tmp = tmp.replace('\\n','')\n",
    "            tmp = tmp.replace('\\r','')\n",
    "            print(tmp)\n",
    "            tmt_txt = ''\n",
    "        else:\n",
    "            tmt = i.get_text()\n",
    "            tmt = tmt.replace('\\n','')\n",
    "            tmt = tmt.replace('\\r','')\n",
    "            tmt_txt += \" \"+tmt\n",
    "#             print('key',tmt)\n",
    "\n",
    "res[tmp] = tmt_txt"
   ]
  },
  {
   "cell_type": "code",
   "execution_count": 38,
   "id": "39a21f9e-b4d6-43d1-aa22-a3ad9ec21bcf",
   "metadata": {},
   "outputs": [
    {
     "data": {
      "text/plain": [
       "dict_keys(['', '目次', '概説', 'あらすじ', '登場人物', '用語', '既刊一覧', 'ドラマCD', 'テレビアニメ', 'スマートフォンゲーム', '脚注', '外部リンク', '案内メニュー'])"
      ]
     },
     "execution_count": 38,
     "metadata": {},
     "output_type": "execute_result"
    }
   ],
   "source": [
    "res.keys()"
   ]
  },
  {
   "cell_type": "code",
   "execution_count": 39,
   "id": "6890b53d-b415-4c75-b6b4-599f08591665",
   "metadata": {},
   "outputs": [
    {
     "data": {
      "text/plain": [
       "' 小説投稿サイト「小説家になろう」でオンライン小説として2012年9月から2015年4月まで連載。2014年1月からMFブックス（企画・フロンティアワークス、発行・KADOKAWA）により書籍化されている。イラストはシロタカ。略称は「無職転生」[2]。 34歳無職の日本人が、中世ヨーロッパ風の異世界に転生したという設定のファンタジー小説[3]。「小説家になろう」の主流である、異世界に転生した主人公が現代の知識や魔法を使って無双する設定のハイ・ファンタジーの先駆者的作品[4]で、家族を始めとした人間関係を主軸に主人公が前世のトラウマを乗り越え成長していく物語が展開される[5]。家族や人間関係を主軸にしたのは『惑星のさみだれ』や『寄生獣』から影響を受けていることを明かしている[6]。 著者の理不尽な孫の手は本作の執筆の経緯を、当時は『灼眼のシャナ』のような現代異能力バトルがライトノベルの主流で、ファンタジー作品は敬遠されていたが、『Re:Monster』から小説家になろうを知って「ここだったら受け入れられるかもな」と思って投稿を始めたと語っている[7]。世界観に関しては本作を書く以前に考えていた作品の80年前の時代を舞台にしており[8]、別の時代を舞台にした話が『六面世界の物語』として小説家になろうに投稿されている。 漫画版が、『コミックフラッパー』（KADOKAWA メディアファクトリー刊）にて2014年6月号（2014年5月2日より）より連載中[9]。WEBコミック誌『ComicWalker』でスピンオフコミック『無職転生 〜ロキシーだって本気です〜』が連載中[10]。漫画版9巻と10巻に『Re:ゼロから始める異世界生活』とのコラボ小説とコラボマンガが収録された[2]。漫画版10巻の発売を記念して、2019年3月25日より3月31日まで関東近郊のJRの駅構内に大判ポスターが掲出されていた[11]。漫画版12巻とロキシーだって本気ですの5巻の発売を記念して、2020年3月23日より3月29日まで東京メトロ5路線にの中づりポスターが掲出されていた[12]。2020年8月17日から9月14日まで西武線一部車両内にステッカーが掲出されていた[13]。 2013年10月から2019年2月まで小説家になろう累計ランキング1位を維持していた。『このライトノベルがすごい!』2017年版では単行本・ノベルズ部門第4位。2021年11月時点でシリーズ累計発行部数は960万部を突破している[14]。'"
      ]
     },
     "execution_count": 39,
     "metadata": {},
     "output_type": "execute_result"
    }
   ],
   "source": [
    "res['概説']"
   ]
  },
  {
   "cell_type": "code",
   "execution_count": null,
   "id": "753ae444-3d26-44c7-bf8b-81b1703a2467",
   "metadata": {},
   "outputs": [],
   "source": []
  },
  {
   "cell_type": "code",
   "execution_count": null,
   "id": "dde359d4-4680-4e39-a37f-6c31098abd49",
   "metadata": {},
   "outputs": [],
   "source": []
  },
  {
   "cell_type": "code",
   "execution_count": null,
   "id": "99a9adbc-7071-44a1-b53a-df02bd14a213",
   "metadata": {},
   "outputs": [],
   "source": []
  },
  {
   "cell_type": "code",
   "execution_count": null,
   "id": "79d8a1ea-4442-49b6-adc0-ea8709b6d14c",
   "metadata": {},
   "outputs": [],
   "source": []
  },
  {
   "cell_type": "code",
   "execution_count": null,
   "id": "f1d0aa37-0c67-4078-8e5d-c69b0019f510",
   "metadata": {},
   "outputs": [],
   "source": []
  },
  {
   "cell_type": "code",
   "execution_count": null,
   "id": "7cd18611-9ea2-40f5-84f3-9a601f38889c",
   "metadata": {},
   "outputs": [],
   "source": []
  },
  {
   "cell_type": "code",
   "execution_count": null,
   "id": "b5d3cf2f-8a8c-4331-856e-13e48a8e3cf8",
   "metadata": {},
   "outputs": [],
   "source": []
  },
  {
   "cell_type": "code",
   "execution_count": null,
   "id": "202264f9-19d1-4670-9855-29129f56a093",
   "metadata": {},
   "outputs": [],
   "source": []
  },
  {
   "cell_type": "code",
   "execution_count": null,
   "id": "39408d3f-a36c-464b-a677-77feb452d0f2",
   "metadata": {},
   "outputs": [],
   "source": []
  },
  {
   "cell_type": "code",
   "execution_count": null,
   "id": "471834d4-df98-44f0-aadf-fb96658b95e2",
   "metadata": {},
   "outputs": [],
   "source": []
  },
  {
   "cell_type": "code",
   "execution_count": null,
   "id": "940b5dea-b05a-4054-8732-716006104b92",
   "metadata": {},
   "outputs": [],
   "source": []
  },
  {
   "cell_type": "code",
   "execution_count": null,
   "id": "4b09d68f-308f-400b-a3b1-9b21c49ec4b5",
   "metadata": {},
   "outputs": [],
   "source": []
  },
  {
   "cell_type": "code",
   "execution_count": null,
   "id": "a0f1ecc4-eb22-48e7-a285-3713b4bcf185",
   "metadata": {},
   "outputs": [],
   "source": []
  },
  {
   "cell_type": "code",
   "execution_count": null,
   "id": "744b7134-51d5-415b-93f4-becd4690430c",
   "metadata": {},
   "outputs": [],
   "source": []
  },
  {
   "cell_type": "code",
   "execution_count": null,
   "id": "b40028dc-3546-4984-ac01-d5bd85f5732b",
   "metadata": {},
   "outputs": [],
   "source": []
  },
  {
   "cell_type": "code",
   "execution_count": null,
   "id": "266e4d71-2405-498f-9d93-e99d10b088f1",
   "metadata": {},
   "outputs": [],
   "source": []
  },
  {
   "cell_type": "code",
   "execution_count": null,
   "id": "106118e4-135f-46a3-ac2e-c9414e2851ae",
   "metadata": {},
   "outputs": [],
   "source": []
  },
  {
   "cell_type": "code",
   "execution_count": null,
   "id": "fc1c2793-5d13-4764-b027-a8d5b6ded324",
   "metadata": {},
   "outputs": [],
   "source": []
  },
  {
   "cell_type": "code",
   "execution_count": null,
   "id": "978535d7-030e-48cb-94f2-0d3b075cbc3a",
   "metadata": {},
   "outputs": [],
   "source": []
  },
  {
   "cell_type": "code",
   "execution_count": null,
   "id": "24bbb255-2304-4d2a-bc06-b2ad30deb43d",
   "metadata": {},
   "outputs": [],
   "source": []
  },
  {
   "cell_type": "code",
   "execution_count": null,
   "id": "3da834b2-7767-4760-80aa-516229cd0ed1",
   "metadata": {},
   "outputs": [],
   "source": []
  },
  {
   "cell_type": "code",
   "execution_count": null,
   "id": "216f95cb-63fe-4fee-88ee-8e9f1b1641f1",
   "metadata": {},
   "outputs": [],
   "source": []
  },
  {
   "cell_type": "code",
   "execution_count": null,
   "id": "3993f2ab-93e8-4b30-ad15-3040fc3975cb",
   "metadata": {},
   "outputs": [],
   "source": []
  },
  {
   "cell_type": "code",
   "execution_count": null,
   "id": "b44298e4-8e33-47f6-bedf-b73f0d9ec4c6",
   "metadata": {},
   "outputs": [],
   "source": []
  },
  {
   "cell_type": "code",
   "execution_count": null,
   "id": "57e074da-e33f-41e8-925a-e5bd0d457c3c",
   "metadata": {},
   "outputs": [],
   "source": []
  },
  {
   "cell_type": "code",
   "execution_count": null,
   "id": "f9c4dc56-bea0-4def-8ea7-5a4c5f98c0a5",
   "metadata": {},
   "outputs": [],
   "source": []
  },
  {
   "cell_type": "code",
   "execution_count": null,
   "id": "d3b8a6c9-c345-45ca-a1ce-5cda689bb3cb",
   "metadata": {},
   "outputs": [],
   "source": []
  },
  {
   "cell_type": "code",
   "execution_count": null,
   "id": "3efcfdd5-612b-492c-99af-86b0f8e9301c",
   "metadata": {},
   "outputs": [],
   "source": []
  },
  {
   "cell_type": "code",
   "execution_count": null,
   "id": "94275b51-77ff-4280-a6f5-b5af5e04114b",
   "metadata": {},
   "outputs": [],
   "source": []
  },
  {
   "cell_type": "code",
   "execution_count": null,
   "id": "ecdfce56-c820-44df-b55e-c90461142e51",
   "metadata": {},
   "outputs": [],
   "source": []
  },
  {
   "cell_type": "code",
   "execution_count": null,
   "id": "bfe87e20-e458-432c-b88b-e07f3b6a95c0",
   "metadata": {},
   "outputs": [],
   "source": []
  }
 ],
 "metadata": {
  "kernelspec": {
   "display_name": "Python 3",
   "language": "python",
   "name": "python3"
  },
  "language_info": {
   "codemirror_mode": {
    "name": "ipython",
    "version": 3
   },
   "file_extension": ".py",
   "mimetype": "text/x-python",
   "name": "python",
   "nbconvert_exporter": "python",
   "pygments_lexer": "ipython3",
   "version": "3.8.8"
  }
 },
 "nbformat": 4,
 "nbformat_minor": 5
}
