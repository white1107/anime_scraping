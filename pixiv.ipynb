{
 "cells": [
  {
   "cell_type": "code",
   "execution_count": 272,
   "id": "9413a5f6-ee7d-4523-9d95-819ecbeaa791",
   "metadata": {},
   "outputs": [],
   "source": [
    "import requests,bs4"
   ]
  },
  {
   "cell_type": "code",
   "execution_count": 279,
   "id": "bac8ba5e-fa92-400f-88c6-20a5f3acdea5",
   "metadata": {},
   "outputs": [],
   "source": [
    "url = 'https://dic.pixiv.net/a/%E5%91%AA%E8%A1%93%E5%BB%BB%E6%88%A6'\n",
    "res = requests.get(url)\n",
    "# res = requests.get('https://ja.wikipedia.org/wiki/Python')\n"
   ]
  },
  {
   "cell_type": "code",
   "execution_count": 280,
   "id": "cafe79cb-fa4b-4870-bad3-75468d6f8463",
   "metadata": {},
   "outputs": [],
   "source": [
    "soup = bs4.BeautifulSoup(res.text, \"html.parser\")\n"
   ]
  },
  {
   "cell_type": "code",
   "execution_count": 281,
   "id": "7150315c-1336-4cf1-9807-b49d3c6a8315",
   "metadata": {},
   "outputs": [
    {
     "name": "stdout",
     "output_type": "stream",
     "text": [
      "概要\n",
      "あらすじ\n",
      "作風・特徴\n",
      "主要な用語\n",
      "登場人物\n",
      "エピソード\n",
      "ノベライズ\n",
      "アニメ\n",
      "制作スタッフ\n",
      "主題歌\n",
      "劇場版 \n",
      "ゲーム\n",
      "関連動画\n",
      "漫画PV\n",
      "TVアニメPV\n",
      "TVアニメOP・ED\n",
      "劇場版PV\n",
      "関連イラスト\n",
      "関連タグ\n",
      "二次創作タグ\n",
      "外部リンク\n",
      "原作漫画\n",
      "アニメ・劇場版\n",
      "ゲーム\n",
      "その他\n",
      "関連記事\n",
      "親記事\n",
      "子記事\n",
      "兄弟記事\n",
      "pixivに投稿されたイラスト pixivで「呪術廻戦」のイラストを見る\n",
      "pixivに投稿された小説 pixivで「呪術廻戦」の小説を見る\n",
      "このタグがついたpixivの作品閲覧データ 総閲覧数: 473923090\n",
      "コメント\n",
      " pixivisionの関連記事\n",
      "関連記事\n",
      "親記事\n",
      "子記事\n",
      "兄弟記事\n",
      "カテゴリー\n",
      "pixivision\n",
      "人気の記事\n",
      "更新された記事\n",
      "新しく作成された記事\n"
     ]
    }
   ],
   "source": [
    "res  = {} \n",
    "flag = 0\n",
    "\n",
    "tmp = \"\"\n",
    "tmt_txt = ''\n",
    "for i in soup.find_all(['p','h2','h3','ul']):\n",
    "    if not flag and \"概要\" in i.get_text():\n",
    "        flag = 1\n",
    "    if flag:\n",
    "        if '<h' in str(i):\n",
    "            flag+=1\n",
    "            if flag>=2 :\n",
    "                res[tmp] = tmt_txt\n",
    "            tmp = i.get_text()\n",
    "            tmp = tmp.replace('\\n','')\n",
    "            tmp = tmp.replace('\\r','')\n",
    "            print(tmp)\n",
    "            tmt_txt = ''\n",
    "        else:\n",
    "            tmt = i.get_text()\n",
    "            tmt = tmt.replace('\\n','')\n",
    "            tmt = tmt.replace('\\r','')\n",
    "            tmt_txt += \" \"+tmt\n",
    "#             print('key',tmt)\n",
    "\n",
    "res[tmp] = tmt_txt"
   ]
  },
  {
   "cell_type": "code",
   "execution_count": 285,
   "id": "6890b53d-b415-4c75-b6b4-599f08591665",
   "metadata": {},
   "outputs": [
    {
     "data": {
      "text/plain": [
       "' 『週刊少年ジャンプ』2018年14号から連載されている漫画作品。作者は芥見下々。既刊16巻＋番外編1巻（下記0巻）。『ジャンプGIGA』2017年vol.1～4で連載されていたパイロット版の『東京都立呪術高等専門学校』（以下『呪術高専』）をベースとして、今作の連載に至った。『呪術廻戦』は『呪術高専』の1年後の物語であり、登場人物や設定など世界観もそのまま引き継がれており、『呪術高専』が後に『呪術廻戦』0巻として発売された。1巻発売直後から品切れが続出し即重版決定するほどの人気が出たほか、次にくるマンガ大賞2018にノミネートされ6位となった。また、全国の書店員が選んだおすすめマンガ2019、みんなが選ぶTSUTAYAコミック大賞2019のそれぞれで堂々の1位を飾った。さらに、2021年5月までにシリーズ累計発行部数5000万部を突破した。'"
      ]
     },
     "execution_count": 285,
     "metadata": {},
     "output_type": "execute_result"
    }
   ],
   "source": [
    "res['概要']"
   ]
  },
  {
   "cell_type": "code",
   "execution_count": null,
   "id": "45cb1d44-a431-4989-b844-c80044b91b86",
   "metadata": {},
   "outputs": [],
   "source": []
  },
  {
   "cell_type": "code",
   "execution_count": null,
   "id": "753ae444-3d26-44c7-bf8b-81b1703a2467",
   "metadata": {},
   "outputs": [],
   "source": []
  },
  {
   "cell_type": "code",
   "execution_count": null,
   "id": "dde359d4-4680-4e39-a37f-6c31098abd49",
   "metadata": {},
   "outputs": [],
   "source": []
  },
  {
   "cell_type": "code",
   "execution_count": null,
   "id": "99a9adbc-7071-44a1-b53a-df02bd14a213",
   "metadata": {},
   "outputs": [],
   "source": []
  },
  {
   "cell_type": "code",
   "execution_count": null,
   "id": "79d8a1ea-4442-49b6-adc0-ea8709b6d14c",
   "metadata": {},
   "outputs": [],
   "source": []
  },
  {
   "cell_type": "code",
   "execution_count": null,
   "id": "f1d0aa37-0c67-4078-8e5d-c69b0019f510",
   "metadata": {},
   "outputs": [],
   "source": []
  },
  {
   "cell_type": "code",
   "execution_count": null,
   "id": "7cd18611-9ea2-40f5-84f3-9a601f38889c",
   "metadata": {},
   "outputs": [],
   "source": []
  },
  {
   "cell_type": "code",
   "execution_count": null,
   "id": "b5d3cf2f-8a8c-4331-856e-13e48a8e3cf8",
   "metadata": {},
   "outputs": [],
   "source": []
  },
  {
   "cell_type": "code",
   "execution_count": null,
   "id": "202264f9-19d1-4670-9855-29129f56a093",
   "metadata": {},
   "outputs": [],
   "source": []
  },
  {
   "cell_type": "code",
   "execution_count": null,
   "id": "39408d3f-a36c-464b-a677-77feb452d0f2",
   "metadata": {},
   "outputs": [],
   "source": []
  },
  {
   "cell_type": "code",
   "execution_count": null,
   "id": "471834d4-df98-44f0-aadf-fb96658b95e2",
   "metadata": {},
   "outputs": [],
   "source": []
  },
  {
   "cell_type": "code",
   "execution_count": null,
   "id": "940b5dea-b05a-4054-8732-716006104b92",
   "metadata": {},
   "outputs": [],
   "source": []
  },
  {
   "cell_type": "code",
   "execution_count": null,
   "id": "4b09d68f-308f-400b-a3b1-9b21c49ec4b5",
   "metadata": {},
   "outputs": [],
   "source": []
  },
  {
   "cell_type": "code",
   "execution_count": null,
   "id": "a0f1ecc4-eb22-48e7-a285-3713b4bcf185",
   "metadata": {},
   "outputs": [],
   "source": []
  },
  {
   "cell_type": "code",
   "execution_count": null,
   "id": "744b7134-51d5-415b-93f4-becd4690430c",
   "metadata": {},
   "outputs": [],
   "source": []
  },
  {
   "cell_type": "code",
   "execution_count": null,
   "id": "b40028dc-3546-4984-ac01-d5bd85f5732b",
   "metadata": {},
   "outputs": [],
   "source": []
  },
  {
   "cell_type": "code",
   "execution_count": null,
   "id": "266e4d71-2405-498f-9d93-e99d10b088f1",
   "metadata": {},
   "outputs": [],
   "source": []
  },
  {
   "cell_type": "code",
   "execution_count": null,
   "id": "106118e4-135f-46a3-ac2e-c9414e2851ae",
   "metadata": {},
   "outputs": [],
   "source": []
  },
  {
   "cell_type": "code",
   "execution_count": null,
   "id": "fc1c2793-5d13-4764-b027-a8d5b6ded324",
   "metadata": {},
   "outputs": [],
   "source": []
  },
  {
   "cell_type": "code",
   "execution_count": null,
   "id": "978535d7-030e-48cb-94f2-0d3b075cbc3a",
   "metadata": {},
   "outputs": [],
   "source": []
  },
  {
   "cell_type": "code",
   "execution_count": null,
   "id": "24bbb255-2304-4d2a-bc06-b2ad30deb43d",
   "metadata": {},
   "outputs": [],
   "source": []
  },
  {
   "cell_type": "code",
   "execution_count": null,
   "id": "3da834b2-7767-4760-80aa-516229cd0ed1",
   "metadata": {},
   "outputs": [],
   "source": []
  },
  {
   "cell_type": "code",
   "execution_count": null,
   "id": "216f95cb-63fe-4fee-88ee-8e9f1b1641f1",
   "metadata": {},
   "outputs": [],
   "source": []
  },
  {
   "cell_type": "code",
   "execution_count": null,
   "id": "3993f2ab-93e8-4b30-ad15-3040fc3975cb",
   "metadata": {},
   "outputs": [],
   "source": []
  },
  {
   "cell_type": "code",
   "execution_count": null,
   "id": "b44298e4-8e33-47f6-bedf-b73f0d9ec4c6",
   "metadata": {},
   "outputs": [],
   "source": []
  },
  {
   "cell_type": "code",
   "execution_count": null,
   "id": "57e074da-e33f-41e8-925a-e5bd0d457c3c",
   "metadata": {},
   "outputs": [],
   "source": []
  },
  {
   "cell_type": "code",
   "execution_count": null,
   "id": "f9c4dc56-bea0-4def-8ea7-5a4c5f98c0a5",
   "metadata": {},
   "outputs": [],
   "source": []
  },
  {
   "cell_type": "code",
   "execution_count": null,
   "id": "d3b8a6c9-c345-45ca-a1ce-5cda689bb3cb",
   "metadata": {},
   "outputs": [],
   "source": []
  },
  {
   "cell_type": "code",
   "execution_count": null,
   "id": "3efcfdd5-612b-492c-99af-86b0f8e9301c",
   "metadata": {},
   "outputs": [],
   "source": []
  },
  {
   "cell_type": "code",
   "execution_count": null,
   "id": "94275b51-77ff-4280-a6f5-b5af5e04114b",
   "metadata": {},
   "outputs": [],
   "source": []
  },
  {
   "cell_type": "code",
   "execution_count": null,
   "id": "ecdfce56-c820-44df-b55e-c90461142e51",
   "metadata": {},
   "outputs": [],
   "source": []
  },
  {
   "cell_type": "code",
   "execution_count": null,
   "id": "bfe87e20-e458-432c-b88b-e07f3b6a95c0",
   "metadata": {},
   "outputs": [],
   "source": []
  }
 ],
 "metadata": {
  "kernelspec": {
   "display_name": "Python 3",
   "language": "python",
   "name": "python3"
  },
  "language_info": {
   "codemirror_mode": {
    "name": "ipython",
    "version": 3
   },
   "file_extension": ".py",
   "mimetype": "text/x-python",
   "name": "python",
   "nbconvert_exporter": "python",
   "pygments_lexer": "ipython3",
   "version": "3.8.8"
  }
 },
 "nbformat": 4,
 "nbformat_minor": 5
}
